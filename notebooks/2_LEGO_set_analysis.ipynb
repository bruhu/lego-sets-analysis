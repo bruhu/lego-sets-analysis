{
 "cells": [
  {
   "cell_type": "markdown",
   "metadata": {},
   "source": [
    "# LEGO Set Analysis\n",
    "\n",
    "This analysis explores various aspects of LEGO sets, including trends in releases by year, the relationship between price and pieces, popular themes by decade, and a comparison of minifigures in licensed versus non-licensed sets."
   ]
  },
  {
   "cell_type": "code",
   "execution_count": 1,
   "metadata": {},
   "outputs": [],
   "source": [
    "import pandas as pd"
   ]
  },
  {
   "cell_type": "code",
   "execution_count": 2,
   "metadata": {},
   "outputs": [],
   "source": [
    "import sys\n",
    "import os\n",
    "\n",
    "sys.path.append(os.path.abspath(os.path.join('..', 'utils')))\n",
    "\n",
    "import data_processing_functions as dpf"
   ]
  },
  {
   "cell_type": "markdown",
   "metadata": {},
   "source": [
    "### 1. Analyze the Number of LEGO Sets Released by Year\n",
    "- Group the data by Year Released and calculate the count of sets for each year.\n",
    "- Identify trends:\n",
    "  - Examine if there are periods of steady increases, peaks, or declines in releases.\n",
    "  - Create a line chart to visualize the number of sets released by year and identify the trends."
   ]
  },
  {
   "cell_type": "code",
   "execution_count": null,
   "metadata": {},
   "outputs": [],
   "source": [
    "# your code"
   ]
  },
  {
   "cell_type": "markdown",
   "metadata": {},
   "source": [
    "### 2. Explore the Relationship Between Price and Pieces\n",
    "- Calculate the correlation between the Price and Pieces columns to measure the relationship between these variables.\n",
    "- Create a scatterplot to visually inspect how price scales with the number of pieces.\n",
    "- Analyze the scatterplot:\n",
    "  - Assess if the relationship appears linear.\n",
    "  - Identify any outliers or patterns."
   ]
  },
  {
   "cell_type": "code",
   "execution_count": null,
   "metadata": {},
   "outputs": [],
   "source": [
    "# your code"
   ]
  },
  {
   "cell_type": "markdown",
   "metadata": {},
   "source": [
    "### 3. Identify the Most Popular Theme by Decade\n",
    "- Add a new column to categorize each set into a decade based on its Year Released (e.g., 1980s, 1990s, etc.).\n",
    "- Group the data by Decade and Theme, and count the number of sets for each theme in each decade.\n",
    "- Identify the theme with the highest number of sets for each decade.\n",
    "- Visualize the most popular theme for each decade using a bar chart or other suitable plot."
   ]
  },
  {
   "cell_type": "code",
   "execution_count": null,
   "metadata": {},
   "outputs": [],
   "source": [
    "# your code"
   ]
  },
  {
   "cell_type": "markdown",
   "metadata": {},
   "source": [
    "### 4. Evaluate Minifigures and Licensed Sets\n",
    "- Group the data into licensed and non-licensed sets based on the Is Licensed column.\n",
    "- Calculate the average and median number of minifigures in both licensed and non-licensed sets.\n",
    "- Create a bar chart or boxplot to visually compare the number of minifigures in licensed vs. non-licensed sets."
   ]
  },
  {
   "cell_type": "code",
   "execution_count": null,
   "metadata": {},
   "outputs": [],
   "source": [
    "# your code"
   ]
  },
  {
   "cell_type": "markdown",
   "metadata": {},
   "source": [
    "### 5. Conclusions and Insights\n",
    "- Summarize the key insights and trends observed from the analyses:\n",
    "    - Key takeaways from the number of sets released by year.\n",
    "    - The relationship between price and pieces.\n",
    "    - Most popular themes by decade.\n",
    "    - Comparison of minifigures in licensed vs. non-licensed sets.\n",
    "\n",
    "- Offer potential business or design recommendations based on the findings."
   ]
  }
 ],
 "metadata": {
  "kernelspec": {
   "display_name": "venv",
   "language": "python",
   "name": "python3"
  },
  "language_info": {
   "codemirror_mode": {
    "name": "ipython",
    "version": 3
   },
   "file_extension": ".py",
   "mimetype": "text/x-python",
   "name": "python",
   "nbconvert_exporter": "python",
   "pygments_lexer": "ipython3",
   "version": "3.12.3"
  }
 },
 "nbformat": 4,
 "nbformat_minor": 2
}
