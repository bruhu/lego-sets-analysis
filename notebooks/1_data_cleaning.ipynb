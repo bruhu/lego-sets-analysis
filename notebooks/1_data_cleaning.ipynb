{
 "cells": [
  {
   "cell_type": "markdown",
   "metadata": {},
   "source": [
    "### Data Cleaning\n",
    "\n",
    "# LEGO Set Metadata\n",
    "\n",
    "This table outlines the metadata for LEGO sets, including various attributes of each set.\n",
    "\n",
    "| Field           | Description                                                 |\n",
    "|-----------------|-------------------------------------------------------------|\n",
    "| `set_id`        | Official LEGO item number                                   |\n",
    "| `name`          | Name of the LEGO set                                        |\n",
    "| `year`          | Release year                                                |\n",
    "| `theme`         | LEGO theme the set belongs to                               |\n",
    "| `subtheme`      | Subtheme within the theme                                   |\n",
    "| `themeGroup`    | Overall group the theme belongs to                          |\n",
    "| `category`      | Type of set                                                 |\n",
    "| `pieces`        | Number of pieces in the set                                 |\n",
    "| `minifigs`      | Number of mini figures included in the set                  |\n",
    "| `agerange_min`  | Minimum age recommended                                     |\n",
    "| `US_retailPrice`| US retail price at launch                                   |\n",
    "| `bricksetURL`   | URL for the set on brickset.com                              |\n",
    "| `thumbnailURL`  | Small image of the set                                      |\n",
    "| `imageURL`      | Full size image of the set                                  |\n"
   ]
  },
  {
   "cell_type": "code",
   "execution_count": 10,
   "metadata": {},
   "outputs": [],
   "source": [
    "import pandas as pd"
   ]
  },
  {
   "cell_type": "code",
   "execution_count": 9,
   "metadata": {},
   "outputs": [],
   "source": [
    "import sys\n",
    "import os\n",
    "\n",
    "# Add the parent directory to the system path\n",
    "sys.path.append(os.path.abspath(os.path.join('..', 'utils')))\n",
    "\n",
    "import data_processing_functions as dpf"
   ]
  },
  {
   "cell_type": "code",
   "execution_count": 8,
   "metadata": {},
   "outputs": [],
   "source": [
    "lego_sets = pd.read_csv('../data/raw/lego_sets.csv')"
   ]
  },
  {
   "cell_type": "code",
   "execution_count": null,
   "metadata": {},
   "outputs": [],
   "source": [
    "dpf.show_basic_info(lego_sets)"
   ]
  },
  {
   "cell_type": "code",
   "execution_count": null,
   "metadata": {},
   "outputs": [],
   "source": []
  }
 ],
 "metadata": {
  "kernelspec": {
   "display_name": "venv",
   "language": "python",
   "name": "python3"
  },
  "language_info": {
   "codemirror_mode": {
    "name": "ipython",
    "version": 3
   },
   "file_extension": ".py",
   "mimetype": "text/x-python",
   "name": "python",
   "nbconvert_exporter": "python",
   "pygments_lexer": "ipython3",
   "version": "3.12.3"
  }
 },
 "nbformat": 4,
 "nbformat_minor": 2
}
