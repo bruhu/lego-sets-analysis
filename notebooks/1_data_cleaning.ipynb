{
 "cells": [
  {
   "cell_type": "markdown",
   "metadata": {},
   "source": [
    "### Data Cleaning\n",
    "\n",
    "# LEGO Set Metadata\n",
    "\n",
    "This table outlines the metadata for LEGO sets, including various attributes of each set.\n",
    "\n",
    "| Field           | Description                                                 |\n",
    "|-----------------|-------------------------------------------------------------|\n",
    "| `set_id`        | Official LEGO item number                                   |\n",
    "| `name`          | Name of the LEGO set                                        |\n",
    "| `year`          | Release year                                                |\n",
    "| `theme`         | LEGO theme the set belongs to                               |\n",
    "| `subtheme`      | Subtheme within the theme                                   |\n",
    "| `themeGroup`    | Overall group the theme belongs to                          |\n",
    "| `category`      | Type of set                                                 |\n",
    "| `pieces`        | Number of pieces in the set                                 |\n",
    "| `minifigs`      | Number of mini figures included in the set                  |\n",
    "| `agerange_min`  | Minimum age recommended                                     |\n",
    "| `US_retailPrice`| US retail price at launch                                   |\n",
    "| `bricksetURL`   | URL for the set on brickset.com                              |\n",
    "| `thumbnailURL`  | Small image of the set                                      |\n",
    "| `imageURL`      | Full size image of the set                                  |\n"
   ]
  },
  {
   "cell_type": "code",
   "execution_count": 87,
   "metadata": {},
   "outputs": [],
   "source": [
    "import pandas as pd"
   ]
  },
  {
   "cell_type": "code",
   "execution_count": 88,
   "metadata": {},
   "outputs": [],
   "source": [
    "import sys\n",
    "import os\n",
    "\n",
    "sys.path.append(os.path.abspath(os.path.join('..', 'utils')))\n",
    "\n",
    "import data_processing_functions as dpf"
   ]
  },
  {
   "cell_type": "code",
   "execution_count": 89,
   "metadata": {},
   "outputs": [],
   "source": [
    "lego_sets = pd.read_csv('../data/raw/lego_sets.csv')"
   ]
  },
  {
   "cell_type": "markdown",
   "metadata": {},
   "source": [
    "### Basic Information"
   ]
  },
  {
   "cell_type": "code",
   "execution_count": null,
   "metadata": {},
   "outputs": [],
   "source": [
    "dpf.show_basic_info(lego_sets)"
   ]
  },
  {
   "cell_type": "code",
   "execution_count": null,
   "metadata": {},
   "outputs": [],
   "source": [
    "dpf.show_data_types(lego_sets)"
   ]
  },
  {
   "cell_type": "code",
   "execution_count": null,
   "metadata": {},
   "outputs": [],
   "source": [
    "dpf.show_missing_values(lego_sets)"
   ]
  },
  {
   "cell_type": "code",
   "execution_count": null,
   "metadata": {},
   "outputs": [],
   "source": [
    "dpf.show_null_percentage(lego_sets)"
   ]
  },
  {
   "cell_type": "markdown",
   "metadata": {},
   "source": [
    "#### Check for Duplicates"
   ]
  },
  {
   "cell_type": "code",
   "execution_count": null,
   "metadata": {},
   "outputs": [],
   "source": [
    "dpf.check_for_duplicates(lego_sets)"
   ]
  },
  {
   "cell_type": "markdown",
   "metadata": {},
   "source": [
    "## 1. Standardize and format columns"
   ]
  },
  {
   "cell_type": "markdown",
   "metadata": {},
   "source": [
    "#### Rename Columns"
   ]
  },
  {
   "cell_type": "code",
   "execution_count": 95,
   "metadata": {},
   "outputs": [],
   "source": [
    "column_rename_dict = {\n",
    "    'set_id': 'set_id',                    # Official LEGO item number\n",
    "    'name': 'set_name',                    # Name of the LEGO set\n",
    "    'year': 'release_year',                # Release year\n",
    "    'theme': 'theme_name',                 # LEGO theme the set belongs to\n",
    "    'subtheme': 'subtheme_name',           # Subtheme within the theme\n",
    "    'themeGroup': 'theme_group',           # Overall group the theme belongs to\n",
    "    'category': 'set_category',            # Type of set (e.g., playset, vehicle)\n",
    "    'pieces': 'num_pieces',                # Number of pieces in the set\n",
    "    'minifigs': 'num_minifigs',            # Number of mini figures included\n",
    "    'agerange_min': 'min_age_recommended', # Minimum age recommended\n",
    "    'US_retailPrice': 'us_retail_price',   # US retail price at launch\n",
    "    'bricksetURL': 'brickset_url',         # URL for the set on brickset.com\n",
    "    'thumbnailURL': 'thumbnail_url',       # Small image of the set\n",
    "    'imageURL': 'image_url'           # Full size image of the set\n",
    "}\n",
    "\n",
    "lego_sets = dpf.rename_columns(lego_sets, column_rename_dict)"
   ]
  },
  {
   "cell_type": "code",
   "execution_count": null,
   "metadata": {},
   "outputs": [],
   "source": [
    "lego_sets.head()"
   ]
  },
  {
   "cell_type": "markdown",
   "metadata": {},
   "source": [
    "#### Unique values in string columns"
   ]
  },
  {
   "cell_type": "code",
   "execution_count": null,
   "metadata": {},
   "outputs": [],
   "source": [
    "dpf.show_column_value_counts(lego_sets, 'set_name')\n",
    "dpf.show_column_value_counts(lego_sets, 'set_category')\n",
    "dpf.show_column_value_counts(lego_sets, 'theme_name')\n",
    "dpf.show_column_value_counts(lego_sets, 'subtheme_name')\n",
    "dpf.show_column_value_counts(lego_sets, 'theme_group')"
   ]
  },
  {
   "cell_type": "markdown",
   "metadata": {},
   "source": [
    "#### Convert string columns to lowercase\n",
    "- Standardize small differences (& / and, etc)"
   ]
  },
  {
   "cell_type": "code",
   "execution_count": null,
   "metadata": {},
   "outputs": [],
   "source": [
    "columns_to_lowercase = ['set_name', 'set_category', 'theme_name', 'subtheme_name', 'theme_group']\n",
    "for column in columns_to_lowercase:\n",
    "    dpf.convert_strings_to_lowercase(lego_sets, column)\n",
    "    dpf.clean_text(column)\n",
    "    lego_sets[column] = lego_sets[column].str.replace('&', 'and', regex=False)\n",
    "    lego_sets[column] = lego_sets[column].str.replace(' / ', '/', regex=False)\n",
    "    lego_sets[column] = lego_sets[column].str.replace('vs.', 'vs', regex=False)\n",
    "    print(f\"\\n Unique values in '{column}':\\n{lego_sets[column].unique()}\\n\")"
   ]
  },
  {
   "cell_type": "markdown",
   "metadata": {},
   "source": [
    "#### Clean numerical columns"
   ]
  },
  {
   "cell_type": "code",
   "execution_count": null,
   "metadata": {},
   "outputs": [],
   "source": [
    "columns_to_int = ['min_age_recommended', 'num_minifigs', 'num_pieces', 'release_year']\n",
    "for column in columns_to_int:\n",
    "    dpf.convert_columns_to_int(lego_sets, [column])\n",
    "    print(f\"\\n Unique values in {column} column: {lego_sets[column].unique()}\\n\")"
   ]
  },
  {
   "cell_type": "markdown",
   "metadata": {},
   "source": [
    "## 2. Handle missing values"
   ]
  },
  {
   "cell_type": "markdown",
   "metadata": {},
   "source": [
    "#### Drop empty rows in specific columns\n",
    "- price\n",
    "- pieces"
   ]
  },
  {
   "cell_type": "code",
   "execution_count": null,
   "metadata": {},
   "outputs": [],
   "source": [
    "lego_sets = dpf.drop_empty_rows_from_column(lego_sets, 'us_retail_price')\n",
    "lego_sets = dpf.drop_empty_rows_from_column(lego_sets, 'num_pieces')\n",
    "lego_sets = dpf.drop_empty_rows_from_column(lego_sets, 'thumbnail_url')\n"
   ]
  },
  {
   "cell_type": "markdown",
   "metadata": {},
   "source": [
    "#### Replace empty values\n",
    "- with 0 in numerical values\n",
    "- with 'unknown' in subtheme column"
   ]
  },
  {
   "cell_type": "code",
   "execution_count": 101,
   "metadata": {},
   "outputs": [],
   "source": [
    "lego_sets['num_pieces'] = lego_sets['num_pieces'].fillna(0)\n",
    "lego_sets['min_age_recommended'] = lego_sets['min_age_recommended'].fillna(0)\n",
    "lego_sets['num_minifigs'] = lego_sets['num_minifigs'].fillna(0)\n",
    "lego_sets['subtheme_name'] = lego_sets['subtheme_name'].fillna('unknown')"
   ]
  },
  {
   "cell_type": "code",
   "execution_count": null,
   "metadata": {},
   "outputs": [],
   "source": [
    "dpf.show_missing_values(lego_sets)"
   ]
  },
  {
   "cell_type": "markdown",
   "metadata": {},
   "source": [
    "## Derived Columns\n",
    "- Add 'decade' column grouping release years into decades\n",
    "- Licensed sets in 'is_licensed' column"
   ]
  },
  {
   "cell_type": "markdown",
   "metadata": {},
   "source": [
    "Create 'decade' column"
   ]
  },
  {
   "cell_type": "code",
   "execution_count": null,
   "metadata": {},
   "outputs": [],
   "source": [
    "lego_sets['release_decade'] = (lego_sets['release_year'] // 10) * 10\n",
    "display(lego_sets)"
   ]
  },
  {
   "cell_type": "markdown",
   "metadata": {},
   "source": [
    "Mark licensed sets"
   ]
  },
  {
   "cell_type": "code",
   "execution_count": 104,
   "metadata": {},
   "outputs": [],
   "source": [
    "# licensed themes\n",
    "licensed_themes = [\n",
    "    'star wars', 'spongebob squarepants', 'batman', 'harry potter', 'indiana jones',\n",
    "    'pirates of the caribbean', 'ben 10: alien force', 'prince of persia', 'toy story',\n",
    "    'dc comics super heroes', 'marvel super heroes', 'the lord of the rings', 'the hobbit',\n",
    "    'minecraft', 'teenage mutant ninja turtles', 'the lone ranger', 'disney', 'the lego movie',\n",
    "    'the lego batman movie', 'dc super hero girls', 'scooby-doo', 'jurassic world', 'nexo knights',\n",
    "    'the angry birds movie', 'ghostbusters', 'minions: the rise of gru', 'the lego ninjago movie',\n",
    "    'super mario', 'trolls world tour', 'brick sketches', 'stranger things', 'overwatch',\n",
    "    'the powerpuff girls', 'the lego movie 2', 'hidden side', 'avatar'\n",
    "]\n",
    "\n",
    "# check if the theme is licensed\n",
    "def check_licensed(theme):\n",
    "    return theme in licensed_themes\n",
    "\n",
    "# create the 'is_licensed' column\n",
    "lego_sets['is_licensed'] = lego_sets['theme_name'].apply(check_licensed)"
   ]
  },
  {
   "cell_type": "markdown",
   "metadata": {},
   "source": [
    "#### Reorder columns"
   ]
  },
  {
   "cell_type": "code",
   "execution_count": 105,
   "metadata": {},
   "outputs": [],
   "source": [
    "column_order = [\n",
    "    'set_id', 'set_name', 'theme_name', 'subtheme_name', 'theme_group', 'set_category', 'is_licensed', \n",
    "    'release_year', 'release_decade', 'num_pieces', 'num_minifigs', 'min_age_recommended', \n",
    "    'us_retail_price', 'brickset_url', 'thumbnail_url', 'image_url'\n",
    "]\n",
    "\n",
    "lego_sets = lego_sets[column_order]"
   ]
  },
  {
   "cell_type": "code",
   "execution_count": null,
   "metadata": {},
   "outputs": [],
   "source": [
    "display(lego_sets)"
   ]
  },
  {
   "cell_type": "code",
   "execution_count": null,
   "metadata": {},
   "outputs": [],
   "source": [
    "dpf.show_basic_info(lego_sets)"
   ]
  },
  {
   "cell_type": "markdown",
   "metadata": {},
   "source": [
    "### Export to csv"
   ]
  },
  {
   "cell_type": "code",
   "execution_count": 108,
   "metadata": {},
   "outputs": [],
   "source": [
    "lego_sets.reset_index(drop=True, inplace=True)  # reset index\n",
    "# lego_sets.to_csv('../data/processed/lego_sets_clean.csv', index=False)"
   ]
  }
 ],
 "metadata": {
  "kernelspec": {
   "display_name": "venv",
   "language": "python",
   "name": "python3"
  },
  "language_info": {
   "codemirror_mode": {
    "name": "ipython",
    "version": 3
   },
   "file_extension": ".py",
   "mimetype": "text/x-python",
   "name": "python",
   "nbconvert_exporter": "python",
   "pygments_lexer": "ipython3",
   "version": "3.12.3"
  }
 },
 "nbformat": 4,
 "nbformat_minor": 2
}
