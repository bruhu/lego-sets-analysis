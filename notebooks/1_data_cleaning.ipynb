{
 "cells": [
  {
   "cell_type": "markdown",
   "metadata": {},
   "source": [
    "### Data Cleaning\n",
    "\n",
    "# LEGO Set Metadata\n",
    "\n",
    "This table outlines the metadata for LEGO sets, including various attributes of each set.\n",
    "\n",
    "| Field           | Description                                                 |\n",
    "|-----------------|-------------------------------------------------------------|\n",
    "| `set_id`        | Official LEGO item number                                   |\n",
    "| `name`          | Name of the LEGO set                                        |\n",
    "| `year`          | Release year                                                |\n",
    "| `theme`         | LEGO theme the set belongs to                               |\n",
    "| `subtheme`      | Subtheme within the theme                                   |\n",
    "| `themeGroup`    | Overall group the theme belongs to                          |\n",
    "| `category`      | Type of set                                                 |\n",
    "| `pieces`        | Number of pieces in the set                                 |\n",
    "| `minifigs`      | Number of mini figures included in the set                  |\n",
    "| `agerange_min`  | Minimum age recommended                                     |\n",
    "| `US_retailPrice`| US retail price at launch                                   |\n",
    "| `bricksetURL`   | URL for the set on brickset.com                              |\n",
    "| `thumbnailURL`  | Small image of the set                                      |\n",
    "| `imageURL`      | Full size image of the set                                  |\n"
   ]
  },
  {
   "cell_type": "code",
   "execution_count": 1,
   "metadata": {},
   "outputs": [],
   "source": [
    "import pandas as pd"
   ]
  },
  {
   "cell_type": "code",
   "execution_count": 2,
   "metadata": {},
   "outputs": [],
   "source": [
    "import sys\n",
    "import os\n",
    "\n",
    "# Add the parent directory to the system path\n",
    "sys.path.append(os.path.abspath(os.path.join('..', 'utils')))\n",
    "\n",
    "import data_processing_functions as dpf"
   ]
  },
  {
   "cell_type": "code",
   "execution_count": 3,
   "metadata": {},
   "outputs": [],
   "source": [
    "lego_sets = pd.read_csv('../data/raw/lego_sets.csv')"
   ]
  },
  {
   "cell_type": "code",
   "execution_count": 4,
   "metadata": {},
   "outputs": [
    {
     "name": "stdout",
     "output_type": "stream",
     "text": [
      "\n",
      "DataFrame Shape: (18457, 14)\n",
      "Number of Rows: 18457\n",
      "Number of Columns: 14\n",
      "\n",
      "Data Types of Columns:\n",
      "set_id             object\n",
      "name               object\n",
      "year                int64\n",
      "theme              object\n",
      "subtheme           object\n",
      "themeGroup         object\n",
      "category           object\n",
      "pieces            float64\n",
      "minifigs          float64\n",
      "agerange_min      float64\n",
      "US_retailPrice    float64\n",
      "bricksetURL        object\n",
      "thumbnailURL       object\n",
      "imageURL           object\n",
      "dtype: object\n",
      "\n",
      "Missing Values per Column:\n",
      "set_id                0\n",
      "name                  0\n",
      "year                  0\n",
      "theme                 0\n",
      "subtheme           3556\n",
      "themeGroup            2\n",
      "category              0\n",
      "pieces             3924\n",
      "minifigs          10058\n",
      "agerange_min      11670\n",
      "US_retailPrice    11475\n",
      "bricksetURL           0\n",
      "thumbnailURL       1006\n",
      "imageURL           1006\n",
      "dtype: int64\n",
      "\n",
      "First 5 Rows of Data:\n",
      "  set_id                     name  year      theme     subtheme themeGroup  \\\n",
      "0    1-8          Small house set  1970  Minitalia          NaN    Vintage   \n",
      "1    2-8         Medium house set  1970  Minitalia          NaN    Vintage   \n",
      "2    3-6         Medium house set  1970  Minitalia          NaN    Vintage   \n",
      "3    4-4          Large house set  1970  Minitalia          NaN    Vintage   \n",
      "4    4-6  Mini House and Vehicles  1970  Samsonite  Model Maker    Vintage   \n",
      "\n",
      "  category  pieces  minifigs  agerange_min  US_retailPrice  \\\n",
      "0   Normal    67.0       NaN           NaN             NaN   \n",
      "1   Normal   109.0       NaN           NaN             NaN   \n",
      "2   Normal   158.0       NaN           NaN             NaN   \n",
      "3   Normal   233.0       NaN           NaN             NaN   \n",
      "4   Normal     NaN       NaN           NaN             NaN   \n",
      "\n",
      "                     bricksetURL  \\\n",
      "0  https://brickset.com/sets/1-8   \n",
      "1  https://brickset.com/sets/2-8   \n",
      "2  https://brickset.com/sets/3-6   \n",
      "3  https://brickset.com/sets/4-4   \n",
      "4  https://brickset.com/sets/4-6   \n",
      "\n",
      "                                     thumbnailURL  \\\n",
      "0  https://images.brickset.com/sets/small/1-8.jpg   \n",
      "1  https://images.brickset.com/sets/small/2-8.jpg   \n",
      "2  https://images.brickset.com/sets/small/3-6.jpg   \n",
      "3  https://images.brickset.com/sets/small/4-4.jpg   \n",
      "4                                             NaN   \n",
      "\n",
      "                                          imageURL  \n",
      "0  https://images.brickset.com/sets/images/1-8.jpg  \n",
      "1  https://images.brickset.com/sets/images/2-8.jpg  \n",
      "2  https://images.brickset.com/sets/images/3-6.jpg  \n",
      "3  https://images.brickset.com/sets/images/4-4.jpg  \n",
      "4                                              NaN  \n"
     ]
    }
   ],
   "source": [
    "dpf.show_basic_info(lego_sets)"
   ]
  },
  {
   "cell_type": "code",
   "execution_count": 5,
   "metadata": {},
   "outputs": [
    {
     "name": "stdout",
     "output_type": "stream",
     "text": [
      "Data Types of Columns:\n",
      "set_id             object\n",
      "name               object\n",
      "year                int64\n",
      "theme              object\n",
      "subtheme           object\n",
      "themeGroup         object\n",
      "category           object\n",
      "pieces            float64\n",
      "minifigs          float64\n",
      "agerange_min      float64\n",
      "US_retailPrice    float64\n",
      "bricksetURL        object\n",
      "thumbnailURL       object\n",
      "imageURL           object\n",
      "dtype: object\n"
     ]
    }
   ],
   "source": [
    "dpf.show_data_types(lego_sets)"
   ]
  },
  {
   "cell_type": "code",
   "execution_count": 6,
   "metadata": {},
   "outputs": [
    {
     "name": "stdout",
     "output_type": "stream",
     "text": [
      "\n",
      "Missing Values in Columns:\n",
      "set_id                0\n",
      "name                  0\n",
      "year                  0\n",
      "theme                 0\n",
      "subtheme           3556\n",
      "themeGroup            2\n",
      "category              0\n",
      "pieces             3924\n",
      "minifigs          10058\n",
      "agerange_min      11670\n",
      "US_retailPrice    11475\n",
      "bricksetURL           0\n",
      "thumbnailURL       1006\n",
      "imageURL           1006\n",
      "dtype: int64\n"
     ]
    }
   ],
   "source": [
    "dpf.show_missing_values(lego_sets)"
   ]
  },
  {
   "cell_type": "code",
   "execution_count": 7,
   "metadata": {},
   "outputs": [
    {
     "name": "stdout",
     "output_type": "stream",
     "text": [
      "\n",
      "Percentage of Missing Values in Each Column:\n",
      "set_id             0.000000\n",
      "name               0.000000\n",
      "year               0.000000\n",
      "theme              0.000000\n",
      "subtheme          19.266403\n",
      "themeGroup         0.010836\n",
      "category           0.000000\n",
      "pieces            21.260226\n",
      "minifigs          54.494230\n",
      "agerange_min      63.228044\n",
      "US_retailPrice    62.171534\n",
      "bricksetURL        0.000000\n",
      "thumbnailURL       5.450507\n",
      "imageURL           5.450507\n",
      "dtype: float64\n"
     ]
    }
   ],
   "source": [
    "dpf.show_null_percentage(lego_sets)"
   ]
  },
  {
   "cell_type": "markdown",
   "metadata": {},
   "source": [
    "#### Duplicates"
   ]
  },
  {
   "cell_type": "code",
   "execution_count": 8,
   "metadata": {},
   "outputs": [
    {
     "name": "stdout",
     "output_type": "stream",
     "text": [
      "\n",
      "No duplicate rows found in the DataFrame.\n"
     ]
    }
   ],
   "source": [
    "dpf.check_for_duplicates(lego_sets)"
   ]
  },
  {
   "cell_type": "markdown",
   "metadata": {},
   "source": [
    "#### Rename Columns"
   ]
  },
  {
   "cell_type": "code",
   "execution_count": 10,
   "metadata": {},
   "outputs": [],
   "source": [
    "column_rename_dict = {\n",
    "    'set_id': 'set_id',                    # Official LEGO item number\n",
    "    'name': 'set_name',                    # Name of the LEGO set\n",
    "    'year': 'release_year',                # Release year\n",
    "    'theme': 'theme_name',                 # LEGO theme the set belongs to\n",
    "    'subtheme': 'subtheme_name',           # Subtheme within the theme\n",
    "    'themeGroup': 'theme_group',           # Overall group the theme belongs to\n",
    "    'category': 'set_category',            # Type of set (e.g., playset, vehicle)\n",
    "    'pieces': 'num_pieces',                # Number of pieces in the set\n",
    "    'minifigs': 'num_minifigs',            # Number of mini figures included\n",
    "    'agerange_min': 'min_age_recommended', # Minimum age recommended\n",
    "    'US_retailPrice': 'us_retail_price',   # US retail price at launch\n",
    "    'bricksetURL': 'brickset_url',         # URL for the set on brickset.com\n",
    "    'thumbnailURL': 'thumbnail_url',       # Small image of the set\n",
    "    'imageURL': 'full_image_url'           # Full size image of the set\n",
    "}\n",
    "\n",
    "lego_sets = dpf.rename_columns(lego_sets, column_rename_dict)\n"
   ]
  },
  {
   "cell_type": "code",
   "execution_count": 11,
   "metadata": {},
   "outputs": [
    {
     "data": {
      "text/html": [
       "<div>\n",
       "<style scoped>\n",
       "    .dataframe tbody tr th:only-of-type {\n",
       "        vertical-align: middle;\n",
       "    }\n",
       "\n",
       "    .dataframe tbody tr th {\n",
       "        vertical-align: top;\n",
       "    }\n",
       "\n",
       "    .dataframe thead th {\n",
       "        text-align: right;\n",
       "    }\n",
       "</style>\n",
       "<table border=\"1\" class=\"dataframe\">\n",
       "  <thead>\n",
       "    <tr style=\"text-align: right;\">\n",
       "      <th></th>\n",
       "      <th>set_id</th>\n",
       "      <th>set_name</th>\n",
       "      <th>release_year</th>\n",
       "      <th>theme_name</th>\n",
       "      <th>subtheme_name</th>\n",
       "      <th>theme_group</th>\n",
       "      <th>set_category</th>\n",
       "      <th>num_pieces</th>\n",
       "      <th>num_minifigs</th>\n",
       "      <th>min_age_recommended</th>\n",
       "      <th>us_retail_price</th>\n",
       "      <th>brickset_url</th>\n",
       "      <th>thumbnail_url</th>\n",
       "      <th>image_url</th>\n",
       "    </tr>\n",
       "  </thead>\n",
       "  <tbody>\n",
       "    <tr>\n",
       "      <th>0</th>\n",
       "      <td>1-8</td>\n",
       "      <td>Small house set</td>\n",
       "      <td>1970</td>\n",
       "      <td>Minitalia</td>\n",
       "      <td>NaN</td>\n",
       "      <td>Vintage</td>\n",
       "      <td>Normal</td>\n",
       "      <td>67.0</td>\n",
       "      <td>NaN</td>\n",
       "      <td>NaN</td>\n",
       "      <td>NaN</td>\n",
       "      <td>https://brickset.com/sets/1-8</td>\n",
       "      <td>https://images.brickset.com/sets/small/1-8.jpg</td>\n",
       "      <td>https://images.brickset.com/sets/images/1-8.jpg</td>\n",
       "    </tr>\n",
       "    <tr>\n",
       "      <th>1</th>\n",
       "      <td>2-8</td>\n",
       "      <td>Medium house set</td>\n",
       "      <td>1970</td>\n",
       "      <td>Minitalia</td>\n",
       "      <td>NaN</td>\n",
       "      <td>Vintage</td>\n",
       "      <td>Normal</td>\n",
       "      <td>109.0</td>\n",
       "      <td>NaN</td>\n",
       "      <td>NaN</td>\n",
       "      <td>NaN</td>\n",
       "      <td>https://brickset.com/sets/2-8</td>\n",
       "      <td>https://images.brickset.com/sets/small/2-8.jpg</td>\n",
       "      <td>https://images.brickset.com/sets/images/2-8.jpg</td>\n",
       "    </tr>\n",
       "    <tr>\n",
       "      <th>2</th>\n",
       "      <td>3-6</td>\n",
       "      <td>Medium house set</td>\n",
       "      <td>1970</td>\n",
       "      <td>Minitalia</td>\n",
       "      <td>NaN</td>\n",
       "      <td>Vintage</td>\n",
       "      <td>Normal</td>\n",
       "      <td>158.0</td>\n",
       "      <td>NaN</td>\n",
       "      <td>NaN</td>\n",
       "      <td>NaN</td>\n",
       "      <td>https://brickset.com/sets/3-6</td>\n",
       "      <td>https://images.brickset.com/sets/small/3-6.jpg</td>\n",
       "      <td>https://images.brickset.com/sets/images/3-6.jpg</td>\n",
       "    </tr>\n",
       "    <tr>\n",
       "      <th>3</th>\n",
       "      <td>4-4</td>\n",
       "      <td>Large house set</td>\n",
       "      <td>1970</td>\n",
       "      <td>Minitalia</td>\n",
       "      <td>NaN</td>\n",
       "      <td>Vintage</td>\n",
       "      <td>Normal</td>\n",
       "      <td>233.0</td>\n",
       "      <td>NaN</td>\n",
       "      <td>NaN</td>\n",
       "      <td>NaN</td>\n",
       "      <td>https://brickset.com/sets/4-4</td>\n",
       "      <td>https://images.brickset.com/sets/small/4-4.jpg</td>\n",
       "      <td>https://images.brickset.com/sets/images/4-4.jpg</td>\n",
       "    </tr>\n",
       "    <tr>\n",
       "      <th>4</th>\n",
       "      <td>4-6</td>\n",
       "      <td>Mini House and Vehicles</td>\n",
       "      <td>1970</td>\n",
       "      <td>Samsonite</td>\n",
       "      <td>Model Maker</td>\n",
       "      <td>Vintage</td>\n",
       "      <td>Normal</td>\n",
       "      <td>NaN</td>\n",
       "      <td>NaN</td>\n",
       "      <td>NaN</td>\n",
       "      <td>NaN</td>\n",
       "      <td>https://brickset.com/sets/4-6</td>\n",
       "      <td>NaN</td>\n",
       "      <td>NaN</td>\n",
       "    </tr>\n",
       "  </tbody>\n",
       "</table>\n",
       "</div>"
      ],
      "text/plain": [
       "  set_id                 set_name  release_year theme_name subtheme_name  \\\n",
       "0    1-8          Small house set          1970  Minitalia           NaN   \n",
       "1    2-8         Medium house set          1970  Minitalia           NaN   \n",
       "2    3-6         Medium house set          1970  Minitalia           NaN   \n",
       "3    4-4          Large house set          1970  Minitalia           NaN   \n",
       "4    4-6  Mini House and Vehicles          1970  Samsonite   Model Maker   \n",
       "\n",
       "  theme_group set_category  num_pieces  num_minifigs  min_age_recommended  \\\n",
       "0     Vintage       Normal        67.0           NaN                  NaN   \n",
       "1     Vintage       Normal       109.0           NaN                  NaN   \n",
       "2     Vintage       Normal       158.0           NaN                  NaN   \n",
       "3     Vintage       Normal       233.0           NaN                  NaN   \n",
       "4     Vintage       Normal         NaN           NaN                  NaN   \n",
       "\n",
       "   us_retail_price                   brickset_url  \\\n",
       "0              NaN  https://brickset.com/sets/1-8   \n",
       "1              NaN  https://brickset.com/sets/2-8   \n",
       "2              NaN  https://brickset.com/sets/3-6   \n",
       "3              NaN  https://brickset.com/sets/4-4   \n",
       "4              NaN  https://brickset.com/sets/4-6   \n",
       "\n",
       "                                    thumbnail_url  \\\n",
       "0  https://images.brickset.com/sets/small/1-8.jpg   \n",
       "1  https://images.brickset.com/sets/small/2-8.jpg   \n",
       "2  https://images.brickset.com/sets/small/3-6.jpg   \n",
       "3  https://images.brickset.com/sets/small/4-4.jpg   \n",
       "4                                             NaN   \n",
       "\n",
       "                                         image_url  \n",
       "0  https://images.brickset.com/sets/images/1-8.jpg  \n",
       "1  https://images.brickset.com/sets/images/2-8.jpg  \n",
       "2  https://images.brickset.com/sets/images/3-6.jpg  \n",
       "3  https://images.brickset.com/sets/images/4-4.jpg  \n",
       "4                                              NaN  "
      ]
     },
     "execution_count": 11,
     "metadata": {},
     "output_type": "execute_result"
    }
   ],
   "source": [
    "lego_sets.head()"
   ]
  },
  {
   "cell_type": "code",
   "execution_count": null,
   "metadata": {},
   "outputs": [],
   "source": []
  }
 ],
 "metadata": {
  "kernelspec": {
   "display_name": "venv",
   "language": "python",
   "name": "python3"
  },
  "language_info": {
   "codemirror_mode": {
    "name": "ipython",
    "version": 3
   },
   "file_extension": ".py",
   "mimetype": "text/x-python",
   "name": "python",
   "nbconvert_exporter": "python",
   "pygments_lexer": "ipython3",
   "version": "3.12.3"
  }
 },
 "nbformat": 4,
 "nbformat_minor": 2
}
